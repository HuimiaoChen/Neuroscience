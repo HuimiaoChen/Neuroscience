{
  "nbformat": 4,
  "nbformat_minor": 0,
  "metadata": {
    "colab": {
      "provenance": [],
      "toc_visible": true
    },
    "kernelspec": {
      "name": "python3",
      "display_name": "Python 3"
    },
    "language_info": {
      "name": "python"
    }
  },
  "cells": [
    {
      "cell_type": "code",
      "source": [
        "import numpy as np\n",
        "import json"
      ],
      "metadata": {
        "id": "0FH7a2vqASdC"
      },
      "execution_count": null,
      "outputs": []
    },
    {
      "cell_type": "markdown",
      "source": [
        "## random 8 pop para"
      ],
      "metadata": {
        "id": "u61OwRQ8G13e"
      }
    },
    {
      "cell_type": "code",
      "source": [
        "pops = np.array([20683, 5834, 21915, 5479, 4850, 1065, 14395, 2948])\n",
        "pops_prop = np.random.choice([1, -1], size=len(pops)) # 1: excitatory, -1: inhibitory\n",
        "\n",
        "pconn = np.random.randint(0, 2, (len(pops), len(pops)))\n",
        "np.fill_diagonal(pconn, 1)\n",
        "\n",
        "J = np.random.uniform(0.06, 0.3)  # excitatory synaptic weight in mV, w^{αβ} in the paper\n",
        "g = np.random.uniform(3, 5)   # inhibition-to-excitation ratio, -g*J is the weight for inhibitory signals\n",
        "J_syn = np.outer(np.ones_like(pops_prop), np.where(pops_prop == -1, -g*J, J))\n",
        "J_syn = J_syn * pconn * np.random.uniform(0.5, 1.5, (len(pops), len(pops)))\n",
        "\n",
        "pconn_coeff = np.array([\n",
        "    [0.1009, 0.1689, 0.0437, 0.0818, 0.0323, 0, 0.0076, 0],\n",
        "    [0.1346, 0.1371, 0.0316, 0.0515, 0.0755, 0, 0.0042, 0],\n",
        "    [0.0077, 0.0059, 0.0497, 0.135, 0.0067, 0.0003, 0.0453, 0],\n",
        "    [0.0691, 0.0029, 0.0794, 0.1597, 0.0033, 0, 0.1057, 0],\n",
        "    [0.1004, 0.0622, 0.0505, 0.0057, 0.0831, 0.3726, 0.0204, 0],\n",
        "    [0.0548, 0.0269, 0.0257, 0.0022, 0.06, 0.3158, 0.0086, 0],\n",
        "    [0.0156, 0.0066, 0.0211, 0.0166, 0.0572, 0.0197, 0.0396, 0.2252],\n",
        "    [0.0364, 0.001, 0.0034, 0.0005, 0.0277, 0.008, 0.0658, 0.1443]\n",
        "])\n",
        "pconn = pconn * pconn_coeff\n",
        "\n",
        "mu = np.random.uniform(20, 60, len(pops)) # V_rest + I_external * R\n",
        "tau_m = np.random.uniform(10, 40, len(pops))  # membrane time constant\n",
        "V_th = np.random.uniform(10, 30, len(pops))  # baseline threshold (non-accumulating part)\n",
        "\n",
        "tau_sfa_exc = [np.random.uniform(0, 1500)]  # threshold adaptation time constants of excitatory neurons\n",
        "tau_sfa_inh = [np.random.uniform(0, 1500)]  # threshold adaptation time constants of inhibitory neurons\n",
        "J_sfa_exc = [np.random.uniform(0, 1500)]   # adaptation strength: size of feedback kernel theta (= area under exponential) in mV*ms\n",
        "J_sfa_inh = [np.random.uniform(0, 1500)]   # in mV*ms\n",
        "tau_theta = np.array([tau_sfa_exc if prop == 1 else tau_sfa_inh for prop in pops_prop])\n",
        "J_theta = np.array([J_sfa_exc if prop == 1 else J_sfa_inh for prop in pops_prop])"
      ],
      "metadata": {
        "id": "HZEHS0ntGweq"
      },
      "execution_count": null,
      "outputs": []
    },
    {
      "cell_type": "code",
      "source": [
        "print(J_syn)\n",
        "print(mu)\n",
        "print(tau_m)\n",
        "print(V_th)\n",
        "print(J_theta)\n",
        "print(tau_theta)\n",
        "\n",
        "print(\"-- -- --\")\n",
        "\n",
        "J_syn_list = J_syn.tolist()\n",
        "mu_list = mu.tolist()\n",
        "tau_m_list = tau_m.tolist()\n",
        "V_th_list = V_th.tolist()\n",
        "J_theta_list = J_theta.tolist()\n",
        "tau_theta_list = tau_theta.tolist()\n",
        "\n",
        "setting = 1\n",
        "seed_num = 1\n",
        "\n",
        "# Store your data into a dictionary\n",
        "data_dict = {\"setting\": setting, \n",
        "        \"seed_num\": seed_num, \n",
        "        \"J_syn\": J_syn_list, \n",
        "        \"mu\": mu_list, \n",
        "        \"tau_m\": tau_m_list, \n",
        "        \"V_th\": V_th_list, \n",
        "        \"J_theta\": J_theta_list, \n",
        "        \"tau_theta\": tau_theta_list\n",
        "        }\n",
        "\n",
        "# Convert the dictionary into a JSON string\n",
        "json_str = json.dumps(data_dict)\n",
        "\n",
        "# Create the file name string\n",
        "filename = f\"data_{setting}-{seed_num}.json\"\n",
        "\n",
        "# Write the JSON string to a file\n",
        "with open(filename, 'w') as json_file:\n",
        "    json_file.write(json_str)\n",
        "\n",
        "\n",
        "# Read the JSON string from the file\n",
        "with open(filename, 'r') as json_file:\n",
        "    json_str = json_file.read()\n",
        "\n",
        "# Convert the JSON string into a dictionary\n",
        "data_dict = json.loads(json_str)\n",
        "\n",
        "# Convert the nested lists back into numpy arrays\n",
        "J_syn = np.array(data_dict[\"J_syn\"])\n",
        "mu = np.array(data_dict[\"mu\"])\n",
        "tau_m = np.array(data_dict[\"tau_m\"])\n",
        "V_th = np.array(data_dict[\"V_th\"])\n",
        "J_theta = np.array(data_dict[\"J_theta\"])\n",
        "tau_theta = np.array(data_dict[\"tau_theta\"])\n",
        "\n",
        "print(J_syn)\n",
        "print(mu)\n",
        "print(tau_m)\n",
        "print(V_th)\n",
        "print(J_theta)\n",
        "print(tau_theta)\n",
        "\n",
        "print(\"-- -- --\")\n",
        "\n",
        "print(f\"J_syn shape: {J_syn.shape}\")\n",
        "print(f\"mu shape: {mu.shape}\")\n",
        "print(f\"tau_m shape: {tau_m.shape}\")\n",
        "print(f\"V_th shape: {V_th.shape}\")\n",
        "print(f\"J_theta shape: {J_theta.shape}\")\n",
        "print(f\"tau_theta shape: {tau_theta.shape}\")\n",
        "\n",
        "print(\"-- -- --\")\n",
        "\n",
        "print(data_dict)"
      ],
      "metadata": {
        "colab": {
          "base_uri": "https://localhost:8080/"
        },
        "id": "5fOQ1d3iFhl2",
        "outputId": "4dc57519-c293-4102-b599-a191d3748322"
      },
      "execution_count": null,
      "outputs": [
        {
          "output_type": "stream",
          "name": "stdout",
          "text": [
            "[[-0.36236029  0.          0.1117798   0.         -0.         -0.20942072\n",
            "   0.12660862 -0.33623147]\n",
            " [-0.24393214  0.09908151  0.18583693  0.18543585 -0.32228401 -0.\n",
            "   0.16743436 -0.54981025]\n",
            " [-0.25017885  0.131471    0.08595532  0.         -0.4454452  -0.\n",
            "   0.         -0.        ]\n",
            " [-0.4806421   0.11158571  0.          0.18082324 -0.         -0.32364397\n",
            "   0.1259807  -0.46624312]\n",
            " [-0.          0.          0.          0.         -0.56653226 -0.\n",
            "   0.17565134 -0.        ]\n",
            " [-0.45345206  0.          0.          0.16783139 -0.         -0.19695945\n",
            "   0.13562157 -0.45962432]\n",
            " [-0.38078575  0.09480242  0.1363738   0.13794772 -0.         -0.38931957\n",
            "   0.11735037 -0.4043064 ]\n",
            " [-0.          0.08222885  0.1487328   0.         -0.54625509 -0.2830505\n",
            "   0.1872774  -0.19446519]]\n",
            "[48.60437227 37.57707267 33.0404658  49.35120068 22.05175566 40.58282475\n",
            " 48.06477502 48.69486097]\n",
            "[19.93155255 13.86261217 28.85888864 25.51372838 38.44645229 24.65950117\n",
            " 25.5013078  14.96476037]\n",
            "[27.46435516 14.54463213 20.24458264 26.70020895 28.86873219 22.1737582\n",
            " 21.31527349 12.78074396]\n",
            "[[ 505.47233757]\n",
            " [1419.15312764]\n",
            " [1419.15312764]\n",
            " [1419.15312764]\n",
            " [ 505.47233757]\n",
            " [ 505.47233757]\n",
            " [1419.15312764]\n",
            " [ 505.47233757]]\n",
            "[[748.98236473]\n",
            " [748.90113216]\n",
            " [748.90113216]\n",
            " [748.90113216]\n",
            " [748.98236473]\n",
            " [748.98236473]\n",
            " [748.90113216]\n",
            " [748.98236473]]\n",
            "-- -- --\n",
            "[[-0.36236029  0.          0.1117798   0.         -0.         -0.20942072\n",
            "   0.12660862 -0.33623147]\n",
            " [-0.24393214  0.09908151  0.18583693  0.18543585 -0.32228401 -0.\n",
            "   0.16743436 -0.54981025]\n",
            " [-0.25017885  0.131471    0.08595532  0.         -0.4454452  -0.\n",
            "   0.         -0.        ]\n",
            " [-0.4806421   0.11158571  0.          0.18082324 -0.         -0.32364397\n",
            "   0.1259807  -0.46624312]\n",
            " [-0.          0.          0.          0.         -0.56653226 -0.\n",
            "   0.17565134 -0.        ]\n",
            " [-0.45345206  0.          0.          0.16783139 -0.         -0.19695945\n",
            "   0.13562157 -0.45962432]\n",
            " [-0.38078575  0.09480242  0.1363738   0.13794772 -0.         -0.38931957\n",
            "   0.11735037 -0.4043064 ]\n",
            " [-0.          0.08222885  0.1487328   0.         -0.54625509 -0.2830505\n",
            "   0.1872774  -0.19446519]]\n",
            "[48.60437227 37.57707267 33.0404658  49.35120068 22.05175566 40.58282475\n",
            " 48.06477502 48.69486097]\n",
            "[19.93155255 13.86261217 28.85888864 25.51372838 38.44645229 24.65950117\n",
            " 25.5013078  14.96476037]\n",
            "[27.46435516 14.54463213 20.24458264 26.70020895 28.86873219 22.1737582\n",
            " 21.31527349 12.78074396]\n",
            "[[ 505.47233757]\n",
            " [1419.15312764]\n",
            " [1419.15312764]\n",
            " [1419.15312764]\n",
            " [ 505.47233757]\n",
            " [ 505.47233757]\n",
            " [1419.15312764]\n",
            " [ 505.47233757]]\n",
            "[[748.98236473]\n",
            " [748.90113216]\n",
            " [748.90113216]\n",
            " [748.90113216]\n",
            " [748.98236473]\n",
            " [748.98236473]\n",
            " [748.90113216]\n",
            " [748.98236473]]\n",
            "-- -- --\n",
            "J_syn shape: (8, 8)\n",
            "mu shape: (8,)\n",
            "tau_m shape: (8,)\n",
            "V_th shape: (8,)\n",
            "J_theta shape: (8, 1)\n",
            "tau_theta shape: (8, 1)\n",
            "-- -- --\n",
            "{'setting': 1, 'seed_num': 1, 'J_syn': [[-0.36236028980870716, 0.0, 0.11177979715070287, 0.0, -0.0, -0.20942072411468737, 0.12660862425973735, -0.3362314734864807], [-0.24393214012820125, 0.09908150880398373, 0.18583692815252723, 0.1854358464200118, -0.32228400766782966, -0.0, 0.16743436071758902, -0.5498102455522481], [-0.25017884617176445, 0.13147099950636346, 0.08595532295587299, 0.0, -0.4454452045932078, -0.0, 0.0, -0.0], [-0.480642097709571, 0.11158571149843509, 0.0, 0.1808232362867927, -0.0, -0.3236439734214606, 0.12598070148325144, -0.4662431188048778], [-0.0, 0.0, 0.0, 0.0, -0.5665322560082866, -0.0, 0.1756513355343681, -0.0], [-0.45345205833691016, 0.0, 0.0, 0.16783138827208952, -0.0, -0.19695944543073826, 0.1356215715291646, -0.4596243244601741], [-0.3807857519761854, 0.09480241888685112, 0.13637379739820482, 0.13794771700204386, -0.0, -0.3893195660813099, 0.1173503707513971, -0.4043063952990965], [-0.0, 0.08222885091536737, 0.1487328042889427, 0.0, -0.546255094122785, -0.28305049832899953, 0.18727739547162203, -0.19446518955154432]], 'mu': [48.6043722744993, 37.57707267307114, 33.040465800785725, 49.351200677638325, 22.05175565646237, 40.58282474664773, 48.064775023044824, 48.694860969369], 'tau_m': [19.931552546937965, 13.86261217108972, 28.85888864401961, 25.51372837627295, 38.44645228633972, 24.65950117461994, 25.501307800709284, 14.964760371152398], 'V_th': [27.46435516118147, 14.544632129378353, 20.244582644819783, 26.700208954019267, 28.868732191378104, 22.173758204113554, 21.315273492419642, 12.780743960814352], 'J_theta': [[505.4723375681155], [1419.1531276429228], [1419.1531276429228], [1419.1531276429228], [505.4723375681155], [505.4723375681155], [1419.1531276429228], [505.4723375681155]], 'tau_theta': [[748.982364731691], [748.9011321641324], [748.9011321641324], [748.9011321641324], [748.982364731691], [748.982364731691], [748.9011321641324], [748.982364731691]]}\n"
          ]
        }
      ]
    },
    {
      "cell_type": "markdown",
      "source": [
        "## random 3 pop para"
      ],
      "metadata": {
        "id": "Ja4fcwSKrkh1"
      }
    },
    {
      "cell_type": "code",
      "source": [
        "pops = np.array([400, 200, 400])\n",
        "pops_prop = np.random.choice([1, -1], size=len(pops)) # 1: excitatory, -1: inhibitory\n",
        "\n",
        "pconn = np.random.randint(0, 2, (len(pops), len(pops)))\n",
        "np.fill_diagonal(pconn, 1)\n",
        "\n",
        "J = np.random.uniform(0.06, 0.3)  # excitatory synaptic weight in mV, w^{αβ} in the paper\n",
        "g = np.random.uniform(3, 6)   # inhibition-to-excitation ratio, -g*J is the weight for inhibitory signals\n",
        "J_syn = np.outer(np.ones_like(pops_prop), np.where(pops_prop == -1, -g*J, J))\n",
        "J_syn = J_syn * pconn * np.random.uniform(0.5, 1.5, (len(pops), len(pops)))\n",
        "\n",
        "pconn_coeff = 0.6\n",
        "pconn = pconn * pconn_coeff\n",
        "\n",
        "mu = np.random.uniform(20, 60, len(pops)) # V_rest + I_external * R\n",
        "tau_m = np.random.uniform(10, 40, len(pops))  # membrane time constant\n",
        "V_th = np.random.uniform(10, 30, len(pops))  # baseline threshold (non-accumulating part)\n",
        "\n",
        "tau_sfa_exc = [np.random.uniform(80, 1500)]  # threshold adaptation time constants of excitatory neurons\n",
        "tau_sfa_inh = [np.random.uniform(80, 1500)]  # threshold adaptation time constants of inhibitory neurons\n",
        "J_sfa_exc = [np.random.uniform(80, 1500)]   # adaptation strength: size of feedback kernel theta (= area under exponential) in mV*ms\n",
        "J_sfa_inh = [np.random.uniform(80, 1500)]   # in mV*ms\n",
        "tau_theta = np.array([tau_sfa_exc if prop == 1 else tau_sfa_inh for prop in pops_prop])\n",
        "J_theta = np.array([J_sfa_exc if prop == 1 else J_sfa_inh for prop in pops_prop])"
      ],
      "metadata": {
        "id": "9Ps6Tdwkrkh9"
      },
      "execution_count": null,
      "outputs": []
    },
    {
      "cell_type": "code",
      "source": [
        "print(J_syn)\n",
        "print(mu)\n",
        "print(tau_m)\n",
        "print(V_th)\n",
        "print(J_theta)\n",
        "print(tau_theta)\n",
        "\n",
        "print(\"-- -- --\")\n",
        "\n",
        "J_syn_list = J_syn.tolist()\n",
        "mu_list = mu.tolist()\n",
        "tau_m_list = tau_m.tolist()\n",
        "V_th_list = V_th.tolist()\n",
        "J_theta_list = J_theta.tolist()\n",
        "tau_theta_list = tau_theta.tolist()\n",
        "\n",
        "setting = 1\n",
        "seed_num = 1\n",
        "\n",
        "# Store your data into a dictionary\n",
        "data_dict = {\"setting\": setting, \n",
        "        \"seed_num\": seed_num, \n",
        "        \"J_syn\": J_syn_list, \n",
        "        \"mu\": mu_list, \n",
        "        \"tau_m\": tau_m_list, \n",
        "        \"V_th\": V_th_list, \n",
        "        \"J_theta\": J_theta_list, \n",
        "        \"tau_theta\": tau_theta_list\n",
        "        }\n",
        "\n",
        "# Convert the dictionary into a JSON string\n",
        "json_str = json.dumps(data_dict)\n",
        "\n",
        "# Create the file name string\n",
        "filename = f\"data_{setting}-{seed_num}.json\"\n",
        "\n",
        "# Write the JSON string to a file\n",
        "with open(filename, 'w') as json_file:\n",
        "    json_file.write(json_str)\n",
        "\n",
        "\n",
        "# Read the JSON string from the file\n",
        "with open(filename, 'r') as json_file:\n",
        "    json_str = json_file.read()\n",
        "\n",
        "# Convert the JSON string into a dictionary\n",
        "data_dict = json.loads(json_str)\n",
        "\n",
        "# Convert the nested lists back into numpy arrays\n",
        "J_syn = np.array(data_dict[\"J_syn\"])\n",
        "mu = np.array(data_dict[\"mu\"])\n",
        "tau_m = np.array(data_dict[\"tau_m\"])\n",
        "V_th = np.array(data_dict[\"V_th\"])\n",
        "J_theta = np.array(data_dict[\"J_theta\"])\n",
        "tau_theta = np.array(data_dict[\"tau_theta\"])\n",
        "\n",
        "print(J_syn)\n",
        "print(mu)\n",
        "print(tau_m)\n",
        "print(V_th)\n",
        "print(J_theta)\n",
        "print(tau_theta)\n",
        "\n",
        "print(\"-- -- --\")\n",
        "\n",
        "print(data_dict)"
      ],
      "metadata": {
        "colab": {
          "base_uri": "https://localhost:8080/"
        },
        "outputId": "2d8e8930-39d4-4ca2-ad5d-57a615069b59",
        "id": "K4iLUdk7rkh9"
      },
      "execution_count": null,
      "outputs": [
        {
          "output_type": "stream",
          "name": "stdout",
          "text": [
            "[[ 0.24724725 -0.          0.        ]\n",
            " [ 0.         -0.58247619  0.        ]\n",
            " [ 0.         -0.          0.1521292 ]]\n",
            "[54.6528744  30.81797719 30.5206559 ]\n",
            "[36.24766555 21.45326659 25.40004589]\n",
            "[14.04083336 25.41295085 27.62235758]\n",
            "[[1383.44940246]\n",
            " [ 447.57197117]\n",
            " [1383.44940246]]\n",
            "[[ 942.37085234]\n",
            " [1077.55660579]\n",
            " [ 942.37085234]]\n",
            "-- -- --\n",
            "[[ 0.24724725 -0.          0.        ]\n",
            " [ 0.         -0.58247619  0.        ]\n",
            " [ 0.         -0.          0.1521292 ]]\n",
            "[54.6528744  30.81797719 30.5206559 ]\n",
            "[36.24766555 21.45326659 25.40004589]\n",
            "[14.04083336 25.41295085 27.62235758]\n",
            "[[1383.44940246]\n",
            " [ 447.57197117]\n",
            " [1383.44940246]]\n",
            "[[ 942.37085234]\n",
            " [1077.55660579]\n",
            " [ 942.37085234]]\n",
            "-- -- --\n",
            "{'setting': 1, 'seed_num': 1, 'J_syn': [[0.24724724919346042, -0.0, 0.0], [0.0, -0.5824761916708973, 0.0], [0.0, -0.0, 0.15212919967157734]], 'mu': [54.65287439733692, 30.817977191412638, 30.520655897465833], 'tau_m': [36.247665546867466, 21.453266587341155, 25.40004588914421], 'V_th': [14.040833361554334, 25.412950845394846, 27.62235757688827], 'J_theta': [[1383.449402456898], [447.57197116530324], [1383.449402456898]], 'tau_theta': [[942.3708523385774], [1077.5566057913945], [942.3708523385774]]}\n"
          ]
        }
      ]
    },
    {
      "cell_type": "markdown",
      "source": [
        "## 3 pops parameter setting"
      ],
      "metadata": {
        "id": "NCwgfLMhEYFk"
      }
    },
    {
      "cell_type": "code",
      "execution_count": null,
      "metadata": {
        "id": "jU1auDOH1qd8"
      },
      "outputs": [],
      "source": [
        "pops = np.array([400, 200, 400])\n",
        "pops_prop = np.array([1, -1, 1]) # 1: excitatory, -1: inhibitory\n",
        "\n",
        "pconn = np.array([[1, 1, 0],\n",
        "          [1, 1, 1],\n",
        "          [0, 1, 1]])\n",
        "J = 0.0624  # excitatory synaptic weight in mV \n",
        "g = 0.496/0.0624   # inhibition-to-excitation ratio, -g*J is the weight for inhibitory signals\n",
        "J_syn = np.outer(np.ones_like(pops_prop), np.where(pops_prop == -1, -g*J, J))\n",
        "J_syn = J_syn * pconn\n",
        "\n",
        "pconn_coeff = 1\n",
        "pconn = pconn * pconn_coeff\n",
        "\n",
        "mu = 36 * np.ones(len(pops)) # V_rest + I_external * R\n",
        "tau_m = 20 * np.ones(len(pops))  # membrane time constant\n",
        "V_th = 15. * np.ones(len(pops))  # baseline threshold (non-accumulating part)\n",
        "\n",
        "tau_sfa_exc = [1000., 1000.]  # threshold adaptation time constants of excitatory neurons\n",
        "tau_sfa_inh = [1000., 1000.]  # threshold adaptation time constants of inhibitory neurons\n",
        "J_sfa_exc = [100., 1000.]   # adaptation strength: size of feedback kernel theta (= area under exponential) in mV*ms\n",
        "J_sfa_inh = [100., 1000.]   # in mV*ms\n",
        "tau_theta = np.array([tau_sfa_exc if prop == 1 else tau_sfa_inh for prop in pops_prop])\n",
        "J_theta = np.array([J_sfa_exc if prop == 1 else J_sfa_inh for prop in pops_prop])"
      ]
    },
    {
      "cell_type": "markdown",
      "source": [
        "## Shuqi's para"
      ],
      "metadata": {
        "id": "jj1OKOhUBErb"
      }
    },
    {
      "cell_type": "code",
      "source": [
        "pops = np.array([400, 200, 400])\n",
        "pops_prop = np.array([1, -1, 1]) # 1: excitatory, -1: inhibitory\n",
        "\n",
        "pconn = np.array([[1, 1, 0],\n",
        "          [1, 1, 1],\n",
        "          [0, 1, 1]])\n",
        "J = 0.096  # excitatory synaptic weight in mV\n",
        "g = 0.384/0.096   # inhibition-to-excitation ratio, -g*J is the weight for inhibitory signals\n",
        "J_syn = np.outer(np.ones_like(pops_prop), np.where(pops_prop == -1, -g*J, J))\n",
        "J_syn = J_syn * pconn\n",
        "\n",
        "pconn_coeff = 1.\n",
        "pconn = pconn * pconn_coeff\n",
        "\n",
        "mu = 36. * np.ones(len(pops)) # V_rest + I_external * R\n",
        "tau_m = 20. * np.ones(len(pops))  # membrane time constant\n",
        "V_th = 15. * np.ones(len(pops))  # baseline threshold (non-accumulating part)\n",
        "\n",
        "tau_sfa_exc = [1000.]  # threshold adaptation time constants of excitatory neurons\n",
        "tau_sfa_inh = [1000.]  # threshold adaptation time constants of inhibitory neurons\n",
        "J_sfa_exc = [100.]   # adaptation strength: size of feedback kernel theta (= area under exponential) in mV*ms\n",
        "J_sfa_inh = [100.]   # in mV*ms\n",
        "tau_theta = np.array([tau_sfa_exc if prop == 1 else tau_sfa_inh for prop in pops_prop])\n",
        "J_theta = np.array([J_sfa_exc if prop == 1 else J_sfa_inh for prop in pops_prop])"
      ],
      "metadata": {
        "id": "iSrfxaZvBLJU"
      },
      "execution_count": null,
      "outputs": []
    },
    {
      "cell_type": "markdown",
      "source": [
        "## original para"
      ],
      "metadata": {
        "id": "Gqm1s-rKGl-6"
      }
    },
    {
      "cell_type": "code",
      "source": [
        "pops = np.array([800, 200])\n",
        "pops_prop = np.array([1, -1]) # 1: excitatory, -1: inhibitory\n",
        "\n",
        "pconn = np.array([[1, 1],\n",
        "          [1, 1]])\n",
        "J = 0.3  # excitatory synaptic weight in mV \n",
        "g = 5   # inhibition-to-excitation ratio, -g*J is the weight for inhibitory signals\n",
        "J_syn = np.outer(np.ones_like(pops_prop), np.where(pops_prop == -1, -g*J, J))\n",
        "J_syn = J_syn * pconn\n",
        "\n",
        "pconn_coeff = 0.2\n",
        "pconn = pconn * pconn_coeff\n",
        "\n",
        "mu = 24 * np.ones(len(pops)) # V_rest + I_external * R\n",
        "tau_m = 20 * np.ones(len(pops))  # membrane time constant\n",
        "V_th = 15. * np.ones(len(pops))  # baseline threshold (non-accumulating part)\n",
        "\n",
        "tau_sfa_exc = [100., 1000.]  # threshold adaptation time constants of excitatory neurons\n",
        "tau_sfa_inh = [100., 1000.]  # threshold adaptation time constants of inhibitory neurons\n",
        "J_sfa_exc = [1000., 1000.]   # adaptation strength: size of feedback kernel theta (= area under exponential) in mV*ms\n",
        "J_sfa_inh = [1000., 1000.]   # in mV*ms\n",
        "tau_theta = np.array([tau_sfa_exc if prop == 1 else tau_sfa_inh for prop in pops_prop])\n",
        "J_theta = np.array([J_sfa_exc if prop == 1 else J_sfa_inh for prop in pops_prop])"
      ],
      "metadata": {
        "id": "gngVaNUtGpAW"
      },
      "execution_count": null,
      "outputs": []
    },
    {
      "cell_type": "markdown",
      "source": [
        "## other para"
      ],
      "metadata": {
        "id": "Jfxnqd7UASED"
      }
    },
    {
      "cell_type": "code",
      "source": [
        "pops = np.array([800, 200])\n",
        "pops_prop = np.array([1, -1]) # 1: excitatory, -1: inhibitory\n",
        "\n",
        "pconn = np.array([[1, 1],\n",
        "          [1, 1]])\n",
        "J = 0.3  # excitatory synaptic weight in mV, w^{αβ} in the paper\n",
        "g = 5.   # inhibition-to-excitation ratio, -g*J is the weight for inhibitory signals\n",
        "J_syn = np.outer(np.ones_like(pops_prop), np.where(pops_prop == -1, -g*J, J))\n",
        "J_syn = J_syn * pconn\n",
        "\n",
        "pconn_coeff = 0.2\n",
        "pconn = pconn * pconn_coeff\n",
        "\n",
        "mu = 24. * np.ones(len(pops)) # V_rest + I_external * R\n",
        "tau_m = 20. * np.ones(len(pops))  # membrane time constant\n",
        "V_th = 15. * np.ones(len(pops))  # baseline threshold (non-accumulating part)\n",
        "\n",
        "tau_sfa_exc = [100., 1000.]  # threshold adaptation time constants of excitatory neurons\n",
        "tau_sfa_inh = [100., 1000.]  # threshold adaptation time constants of inhibitory neurons\n",
        "J_sfa_exc = [1000., 1000.]   # adaptation strength: size of feedback kernel theta (= area under exponential) in mV*ms\n",
        "J_sfa_inh = [1000., 1000.]   # in mV*ms\n",
        "tau_theta = np.array([tau_sfa_exc if prop == 1 else tau_sfa_inh for prop in pops_prop])\n",
        "J_theta = np.array([J_sfa_exc if prop == 1 else J_sfa_inh for prop in pops_prop])"
      ],
      "metadata": {
        "id": "81WxF9kU1-Gb"
      },
      "execution_count": null,
      "outputs": []
    },
    {
      "cell_type": "code",
      "source": [
        "pops = np.array([800, 200, 200])\n",
        "pops_prop = np.array([1, -1, 1]) # 1: excitatory, -1: inhibitory\n",
        "\n",
        "pconn = np.array([[1, 1, 1],\n",
        "          [1, 1, 1],\n",
        "          [1, 1, 1]])\n",
        "J = 0.3  # excitatory synaptic weight in mV \n",
        "g = 5.   # inhibition-to-excitation ratio, -g*J is the weight for inhibitory signals\n",
        "J_syn = np.outer(np.ones_like(pops_prop), np.where(pops_prop == -1, -g*J, J))\n",
        "J_syn = J_syn * pconn\n",
        "\n",
        "pconn_coeff = 0.2\n",
        "pconn = pconn * pconn_coeff\n",
        "\n",
        "mu = 24 * np.ones(len(pops)) # V_rest + I_external * R\n",
        "tau_m = 20 * np.ones(len(pops))  # membrane time constant\n",
        "V_th = 15. * np.ones(len(pops))  # baseline threshold (non-accumulating part)\n",
        "\n",
        "tau_sfa_exc = [100., 1000.]  # threshold adaptation time constants of excitatory neurons\n",
        "tau_sfa_inh = [100., 1000.]  # threshold adaptation time constants of inhibitory neurons\n",
        "J_sfa_exc = [1000., 1000.]   # adaptation strength: size of feedback kernel theta (= area under exponential) in mV*ms\n",
        "J_sfa_inh = [1000., 1000.]   # in mV*ms\n",
        "tau_theta = np.array([tau_sfa_exc if prop == 1 else tau_sfa_inh for prop in pops_prop])\n",
        "J_theta = np.array([J_sfa_exc if prop == 1 else J_sfa_inh for prop in pops_prop])"
      ],
      "metadata": {
        "id": "5iuxPFa04j0Q"
      },
      "execution_count": null,
      "outputs": []
    }
  ]
}